{
 "cells": [
  {
   "cell_type": "markdown",
   "metadata": {},
   "source": [
    "# Azure AI Search 🚀\n",
    "\n",
    "Azure AI Search is a powerful search-as-a-service solution that allows developers to integrate sophisticated search capabilities into their applications. Here are some key features and benefits:\n",
    "\n",
    "## Key Features 🔑\n",
    "\n",
    "- **Full-Text Search** 📝: Perform full-text searches across your data with advanced text analysis and natural language processing.\n",
    "- **AI-Powered Search** 🤖: Leverage AI to enhance search results with features like cognitive search, which extracts insights from your data.\n",
    "- **Faceted Navigation** 🧭: Enable users to refine search results through facets and filters.\n",
    "- **Scalability** 📈: Easily scale your search solution to handle large volumes of data and high query loads.\n",
    "- **Security** 🔒: Ensure your data is secure with built-in security features and compliance with industry standards.\n",
    "\n",
    "## Benefits 🌟\n",
    "\n",
    "- **Improved User Experience** 😊: Provide users with fast, relevant search results to enhance their experience.\n",
    "- **Easy Integration** 🔧: Integrate Azure AI Search with your existing applications using simple APIs and SDKs.\n",
    "- **Cost-Effective** 💰: Pay only for what you use with flexible pricing options.\n",
    "- **Customizable** 🎨: Tailor the search experience to meet your specific needs with customizable search indexes and ranking profiles.\n",
    "\n",
    "## Getting Started 🚀\n",
    "\n",
    "1. **Create an Azure AI Search Service**: Set up your search service in the Azure portal.\n",
    "2. **Index Your Data** 📊: Upload your data and create search indexes.\n",
    "3. **Query Your Data** 🔍: Use the search APIs to query your data and retrieve results.\n",
    "4. **Enhance with AI** 🧠: Apply cognitive skills to enrich your search results with AI insights.\n",
    "\n",
    "For more information, visit the [Azure AI Search documentation](https://docs.microsoft.com/en-us/azure/search/).\n",
    "\n",
    "Happy Searching! 🔍✨"
   ]
  },
  {
   "cell_type": "code",
   "execution_count": null,
   "metadata": {},
   "outputs": [],
   "source": [
    "%pip install azure-search-documents==11.5.2\n",
    "%pip install python-dotenv==1.0.1"
   ]
  },
  {
   "cell_type": "code",
   "execution_count": 1,
   "metadata": {},
   "outputs": [],
   "source": [
    "import os\n",
    "from dotenv import load_dotenv\n",
    "\n",
    "load_dotenv(override=True)\n",
    "\n",
    "endpoint = os.getenv(\"ENDPOINT\")\n",
    "key = os.getenv(\"KEY\")"
   ]
  },
  {
   "cell_type": "code",
   "execution_count": 4,
   "metadata": {},
   "outputs": [],
   "source": [
    "from azure.search.documents.indexes import SearchIndexClient, SearchIndexerClient\n",
    "from azure.core.credentials import AzureKeyCredential\n",
    "\n",
    "indexers_client = SearchIndexerClient(endpoint, AzureKeyCredential(key))"
   ]
  },
  {
   "cell_type": "markdown",
   "metadata": {},
   "source": [
    "Helper function to create the indexer"
   ]
  },
  {
   "cell_type": "code",
   "execution_count": 5,
   "metadata": {},
   "outputs": [],
   "source": [
    "from azure.search.documents.indexes.models import (\n",
    "    SearchIndex,\n",
    "    SimpleField,\n",
    "    SearchField,\n",
    "    SearchFieldDataType,\n",
    ")\n",
    "\n",
    "def create_index():\n",
    "    # create an index\n",
    "    index_name = \"hotels\"\n",
    "    fields = [\n",
    "        SimpleField(name=\"hotelId\", type=SearchFieldDataType.String, key=True),\n",
    "        SearchField(name=\"hotelName\", type=SearchFieldDataType.String),\n",
    "        SearchField(name=\"description\", type=SearchFieldDataType.String),    \n",
    "        SearchField(name=\"category\", type=SearchFieldDataType.String, facetable=True, filterable=True),\n",
    "        SearchField(name=\"rating\", type=SearchFieldDataType.Int32, filterable=True, sortable=True, facetable=True),\n",
    "    ]\n",
    "    index = SearchIndex(name=index_name, fields=fields)\n",
    "    ind_client = SearchIndexClient(endpoint, AzureKeyCredential(key))\n",
    "    ind_client.create_index(index)"
   ]
  },
  {
   "cell_type": "code",
   "execution_count": 6,
   "metadata": {},
   "outputs": [],
   "source": [
    "# Create the index\n",
    "\n",
    "create_index()"
   ]
  },
  {
   "cell_type": "code",
   "execution_count": 7,
   "metadata": {},
   "outputs": [],
   "source": [
    "# Create the search client\n",
    "from azure.search.documents import SearchClient\n",
    "\n",
    "search_client = SearchClient(\n",
    "    endpoint=endpoint, \n",
    "    index_name=\"hotels\", \n",
    "    credential=AzureKeyCredential(key)\n",
    ")"
   ]
  },
  {
   "cell_type": "code",
   "execution_count": null,
   "metadata": {},
   "outputs": [],
   "source": [
    "import json\n",
    "\n",
    "def index_hotels(json_file_path):\n",
    "    # Read JSON data from file\n",
    "    with open(json_file_path, 'r') as file:\n",
    "        hotels_data = json.load(file)\n",
    "\n",
    "    result = search_client.upload_documents(documents=hotels_data)\n",
    "\n",
    "    print(\"Upload of new document succeeded: {}\".format(result[0].succeeded))\n",
    "\n",
    "\n",
    "# Index the hotels\n",
    "index_hotels(\"hotel.json\")"
   ]
  },
  {
   "cell_type": "markdown",
   "metadata": {},
   "source": [
    "Basic search"
   ]
  },
  {
   "cell_type": "code",
   "execution_count": null,
   "metadata": {},
   "outputs": [],
   "source": [
    "results = search_client.search(search_text=\"luxury\", select=\"hotelName,rating\")\n",
    "\n",
    "for result in results:\n",
    "    print(\"Name: {} (rating {})\".format(result[\"hotelName\"], result[\"rating\"]))"
   ]
  }
 ],
 "metadata": {
  "kernelspec": {
   "display_name": ".venv",
   "language": "python",
   "name": "python3"
  },
  "language_info": {
   "codemirror_mode": {
    "name": "ipython",
    "version": 3
   },
   "file_extension": ".py",
   "mimetype": "text/x-python",
   "name": "python",
   "nbconvert_exporter": "python",
   "pygments_lexer": "ipython3",
   "version": "3.12.8"
  }
 },
 "nbformat": 4,
 "nbformat_minor": 2
}
