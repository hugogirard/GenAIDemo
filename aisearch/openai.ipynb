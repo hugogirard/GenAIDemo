{
 "cells": [
  {
   "cell_type": "code",
   "execution_count": null,
   "metadata": {},
   "outputs": [],
   "source": [
    "%pip install openai==1.58.1\n",
    "%pip install python-dotenv==1.0.1\n",
    "%pip install azure-search-documents==11.5.2"
   ]
  },
  {
   "cell_type": "markdown",
   "metadata": {},
   "source": [
    "Load environment variables"
   ]
  },
  {
   "cell_type": "code",
   "execution_count": 9,
   "metadata": {},
   "outputs": [],
   "source": [
    "import os\n",
    "from dotenv import load_dotenv\n",
    "\n",
    "load_dotenv(override=True)\n",
    "\n",
    "# Azure Search\n",
    "endpoint = os.getenv(\"ENDPOINT\")\n",
    "key = os.getenv(\"KEY\")\n",
    "\n",
    "# OpenAI\n",
    "endpoint_openai = os.getenv(\"OPENAI_ENDPOINT\")\n",
    "openai_key = os.getenv(\"OPENAI_API_KEY\")\n",
    "chat_deployment_name = os.getenv(\"CHAT_DEPLOYMENT_NAME\")"
   ]
  },
  {
   "cell_type": "markdown",
   "metadata": {},
   "source": [
    "Create the clients"
   ]
  },
  {
   "cell_type": "code",
   "execution_count": 5,
   "metadata": {},
   "outputs": [],
   "source": [
    "from openai import AzureOpenAI\n",
    "from azure.search.documents import SearchClient\n",
    "from azure.core.credentials import AzureKeyCredential\n",
    "\n",
    "openai_client = AzureOpenAI(api_key=openai_key, azure_endpoint=endpoint_openai, api_version=\"2024-08-01-preview\")\n",
    "\n",
    "search_client = SearchClient(\n",
    "    endpoint=endpoint, \n",
    "    index_name=\"hotels\", \n",
    "    credential=AzureKeyCredential(key)\n",
    ")"
   ]
  },
  {
   "cell_type": "code",
   "execution_count": 13,
   "metadata": {},
   "outputs": [],
   "source": [
    "json_structure = [\n",
    "    {\n",
    "      \"name\": \"hotelId\",\n",
    "      \"type\": \"Edm.String\",\n",
    "      \"key\": \"true\",\n",
    "      \"retrievable\": \"true\",\n",
    "      \"stored\": \"true\",\n",
    "      \"searchable\": \"false\",\n",
    "      \"filterable\": \"false\",\n",
    "      \"sortable\": \"false\",\n",
    "      \"facetable\": \"false\",\n",
    "      \"synonymMaps\": []\n",
    "    },\n",
    "    {\n",
    "      \"name\": \"hotelName\",\n",
    "      \"type\": \"Edm.String\",\n",
    "      \"key\": \"false\",\n",
    "      \"retrievable\": \"true\",\n",
    "      \"stored\": \"true\",\n",
    "      \"searchable\": \"true\",\n",
    "      \"filterable\": \"true\",\n",
    "      \"sortable\": \"true\",\n",
    "      \"facetable\": \"true\",\n",
    "      \"synonymMaps\": []\n",
    "    },\n",
    "    {\n",
    "      \"name\": \"description\",\n",
    "      \"type\": \"Edm.String\",\n",
    "      \"key\": \"false\",\n",
    "      \"retrievable\": \"true\",\n",
    "      \"stored\": \"true\",\n",
    "      \"searchable\": \"true\",\n",
    "      \"filterable\": \"true\",\n",
    "      \"sortable\": \"true\",\n",
    "      \"facetable\": \"true\",\n",
    "      \"synonymMaps\": []\n",
    "    },\n",
    "    {\n",
    "      \"name\": \"category\",\n",
    "      \"type\": \"Edm.String\",\n",
    "      \"key\": \"false\",\n",
    "      \"retrievable\": \"true\",\n",
    "      \"stored\": \"true\",\n",
    "      \"searchable\": \"true\",\n",
    "      \"filterable\": \"true\",\n",
    "      \"sortable\": \"true\",\n",
    "      \"facetable\": \"true\",\n",
    "      \"synonymMaps\": []\n",
    "    },\n",
    "    {\n",
    "      \"name\": \"rating\",\n",
    "      \"type\": \"Edm.Int32\",\n",
    "      \"key\": \"false\",\n",
    "      \"retrievable\": \"true\",\n",
    "      \"stored\": \"true\",\n",
    "      \"searchable\": \"false\",\n",
    "      \"filterable\": \"true\",\n",
    "      \"sortable\": \"true\",\n",
    "      \"facetable\": \"true\",\n",
    "      \"synonymMaps\": []\n",
    "    }    \n",
    "]\n",
    "\n",
    "chat_history = [\n",
    "        {\n",
    "            \"role\": \"system\", \n",
    "            \"content\": f\"\"\"You are a helpful assistant that provides OData query, \n",
    "                          this is the structure of the index inside AzureAI Search in JSON {json_structure}.  \n",
    "                          You just provide the OData query to execute the search, nothing else\"\"\"\n",
    "        },\n",
    "        {\n",
    "            \"role\": \"user\",\n",
    "            \"content\": \"I want the list of all the luxury hotels\"\n",
    "        },\n",
    "        {\n",
    "            \"role\": \"assistant\",\n",
    "            \"content\": \"$filter=category eq 'Luxury'\"\n",
    "        }\n",
    "]\n",
    "\n"
   ]
  },
  {
   "cell_type": "code",
   "execution_count": 18,
   "metadata": {},
   "outputs": [
    {
     "name": "stdout",
     "output_type": "stream",
     "text": [
      "$filter=rating eq 5\n"
     ]
    },
    {
     "ename": "HttpResponseError",
     "evalue": "(InvalidName) The request is invalid. Details: query : Invalid document key: '$filter=rating eq 5'. Keys can only contain letters, digits, underscore (_), dash (-), or equal sign (=).\nCode: InvalidName\nMessage: The request is invalid. Details: query : Invalid document key: '$filter=rating eq 5'. Keys can only contain letters, digits, underscore (_), dash (-), or equal sign (=).\nException Details:\t(InvalidDocumentKey) Invalid document key: '$filter=rating eq 5'. Keys can only contain letters, digits, underscore (_), dash (-), or equal sign (=). Parameters: query\n\tCode: InvalidDocumentKey\n\tMessage: Invalid document key: '$filter=rating eq 5'. Keys can only contain letters, digits, underscore (_), dash (-), or equal sign (=). Parameters: query",
     "output_type": "error",
     "traceback": [
      "\u001b[0;31m---------------------------------------------------------------------------\u001b[0m",
      "\u001b[0;31mHttpResponseError\u001b[0m                         Traceback (most recent call last)",
      "Cell \u001b[0;32mIn[18], line 17\u001b[0m\n\u001b[1;32m     15\u001b[0m request \u001b[38;5;241m=\u001b[39m HttpRequest(method\u001b[38;5;241m=\u001b[39m\u001b[38;5;124m\"\u001b[39m\u001b[38;5;124mGET\u001b[39m\u001b[38;5;124m\"\u001b[39m, url\u001b[38;5;241m=\u001b[39m\u001b[38;5;124mf\u001b[39m\u001b[38;5;124m\"\u001b[39m\u001b[38;5;124m/docs/$filter=rating eq 5?api-version=2024-05-01-preview\u001b[39m\u001b[38;5;124m\"\u001b[39m)\n\u001b[1;32m     16\u001b[0m response \u001b[38;5;241m=\u001b[39m search_client\u001b[38;5;241m.\u001b[39msend_request(request)\n\u001b[0;32m---> 17\u001b[0m \u001b[43mresponse\u001b[49m\u001b[38;5;241;43m.\u001b[39;49m\u001b[43mraise_for_status\u001b[49m\u001b[43m(\u001b[49m\u001b[43m)\u001b[49m\n\u001b[1;32m     18\u001b[0m response_body \u001b[38;5;241m=\u001b[39m response\u001b[38;5;241m.\u001b[39mjson()\n\u001b[1;32m     19\u001b[0m \u001b[38;5;28mprint\u001b[39m(response_body)\n",
      "File \u001b[0;32m~/github/GenAIDemo/.venv/lib/python3.12/site-packages/azure/core/rest/_http_response_impl.py:348\u001b[0m, in \u001b[0;36m_HttpResponseBaseImpl.raise_for_status\u001b[0;34m(self)\u001b[0m\n\u001b[1;32m    343\u001b[0m \u001b[38;5;250m\u001b[39m\u001b[38;5;124;03m\"\"\"Raises an HttpResponseError if the response has an error status code.\u001b[39;00m\n\u001b[1;32m    344\u001b[0m \n\u001b[1;32m    345\u001b[0m \u001b[38;5;124;03mIf response is good, does nothing.\u001b[39;00m\n\u001b[1;32m    346\u001b[0m \u001b[38;5;124;03m\"\"\"\u001b[39;00m\n\u001b[1;32m    347\u001b[0m \u001b[38;5;28;01mif\u001b[39;00m \u001b[38;5;28mself\u001b[39m\u001b[38;5;241m.\u001b[39mstatus_code \u001b[38;5;241m>\u001b[39m\u001b[38;5;241m=\u001b[39m \u001b[38;5;241m400\u001b[39m:\n\u001b[0;32m--> 348\u001b[0m     \u001b[38;5;28;01mraise\u001b[39;00m HttpResponseError(response\u001b[38;5;241m=\u001b[39m\u001b[38;5;28mself\u001b[39m)\n",
      "\u001b[0;31mHttpResponseError\u001b[0m: (InvalidName) The request is invalid. Details: query : Invalid document key: '$filter=rating eq 5'. Keys can only contain letters, digits, underscore (_), dash (-), or equal sign (=).\nCode: InvalidName\nMessage: The request is invalid. Details: query : Invalid document key: '$filter=rating eq 5'. Keys can only contain letters, digits, underscore (_), dash (-), or equal sign (=).\nException Details:\t(InvalidDocumentKey) Invalid document key: '$filter=rating eq 5'. Keys can only contain letters, digits, underscore (_), dash (-), or equal sign (=). Parameters: query\n\tCode: InvalidDocumentKey\n\tMessage: Invalid document key: '$filter=rating eq 5'. Keys can only contain letters, digits, underscore (_), dash (-), or equal sign (=). Parameters: query"
     ]
    }
   ],
   "source": [
    "from azure.core.rest import HttpRequest\n",
    "\n",
    "chat_history.append({\n",
    "    \"role\": \"user\",\n",
    "    \"content\": \"I want the list of all the hotels with a 5 ratings\"\n",
    "})\n",
    "\n",
    "completion = openai_client.chat.completions.create(\n",
    "    model=chat_deployment_name,\n",
    "    messages=chat_history\n",
    ")\n",
    "\n",
    "print(completion.choices[0].message.content)\n",
    "\n",
    "request = HttpRequest(method=\"GET\", url=f\"/docs/$filter=rating eq 5?api-version=2024-05-01-preview\")\n",
    "response = search_client.send_request(request)\n",
    "response.raise_for_status()\n",
    "response_body = response.json()\n",
    "print(response_body)"
   ]
  }
 ],
 "metadata": {
  "kernelspec": {
   "display_name": ".venv",
   "language": "python",
   "name": "python3"
  },
  "language_info": {
   "codemirror_mode": {
    "name": "ipython",
    "version": 3
   },
   "file_extension": ".py",
   "mimetype": "text/x-python",
   "name": "python",
   "nbconvert_exporter": "python",
   "pygments_lexer": "ipython3",
   "version": "3.12.8"
  }
 },
 "nbformat": 4,
 "nbformat_minor": 2
}
