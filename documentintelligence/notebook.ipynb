{
 "cells": [
  {
   "cell_type": "markdown",
   "metadata": {},
   "source": [
    "# 📄 Document Intelligence\n",
    "\n",
    "Document Intelligence refers to the use of advanced technologies such as artificial intelligence (AI) and machine learning (ML) to analyze, understand, and extract valuable information from documents. This field encompasses a variety of techniques and tools designed to automate the processing of documents, making it easier to manage and utilize the information they contain.\n",
    "\n",
    "## Key Features\n",
    "\n",
    "- 🧠 **AI-Powered Analysis**: Leveraging AI to interpret and understand the content of documents.\n",
    "- 🔍 **Data Extraction**: Automatically extracting relevant data from documents for further use.\n",
    "- 📑 **Document Classification**: Categorizing documents based on their content.\n",
    "- 📝 **Text Recognition**: Using Optical Character Recognition (OCR) to convert scanned documents into editable text.\n",
    "- 📊 **Data Integration**: Integrating extracted data into other systems and workflows.\n",
    "\n",
    "## Benefits\n",
    "\n",
    "- ⏱️ **Time Savings**: Reduces the time spent on manual document processing.\n",
    "- 📈 **Increased Accuracy**: Minimizes human errors in data extraction and interpretation.\n",
    "- 💼 **Enhanced Productivity**: Allows employees to focus on higher-value tasks by automating routine document handling.\n",
    "- 🔒 **Improved Compliance**: Ensures that documents are processed in accordance with regulatory requirements.\n",
    "\n",
    "## Applications\n",
    "\n",
    "- 🏦 **Financial Services**: Automating the processing of invoices, receipts, and financial statements.\n",
    "- 🏥 **Healthcare**: Extracting patient information from medical records and forms.\n",
    "- 🏢 **Legal**: Analyzing contracts and legal documents for key terms and clauses.\n",
    "- 📚 **Education**: Managing and organizing academic records and research papers.\n",
    "\n",
    "Document Intelligence is transforming the way organizations handle their documents, leading to more efficient and effective operations."
   ]
  },
  {
   "cell_type": "code",
   "execution_count": null,
   "metadata": {},
   "outputs": [],
   "source": [
    "%pip install azure-ai-documentintelligence==1.0.0\n",
    "%pip install python-dotenv==1.0.1"
   ]
  },
  {
   "cell_type": "code",
   "execution_count": 4,
   "metadata": {},
   "outputs": [],
   "source": [
    "# Load the environment variables\n",
    "\n",
    "import os\n",
    "from dotenv import load_dotenv\n",
    "\n",
    "load_dotenv(override=True)\n",
    "\n",
    "endpoint = os.getenv(\"ENDPOINT\")\n",
    "key = os.getenv(\"KEY\")"
   ]
  },
  {
   "cell_type": "markdown",
   "metadata": {},
   "source": [
    "Create helper functions"
   ]
  },
  {
   "cell_type": "code",
   "execution_count": 7,
   "metadata": {},
   "outputs": [],
   "source": [
    "def read_file_to_bytes(file_path:str) -> bytes:\n",
    "    with open(file_path, \"rb\") as file:\n",
    "        return file.read()"
   ]
  },
  {
   "cell_type": "markdown",
   "metadata": {},
   "source": [
    "Create the document intelligence client"
   ]
  },
  {
   "cell_type": "code",
   "execution_count": 6,
   "metadata": {},
   "outputs": [
    {
     "ename": "NameError",
     "evalue": "name 'read_file_to_buyes' is not defined",
     "output_type": "error",
     "traceback": [
      "\u001b[0;31m---------------------------------------------------------------------------\u001b[0m",
      "\u001b[0;31mNameError\u001b[0m                                 Traceback (most recent call last)",
      "Cell \u001b[0;32mIn[6], line 8\u001b[0m\n\u001b[1;32m      4\u001b[0m \u001b[38;5;28;01mfrom\u001b[39;00m \u001b[38;5;21;01mazure\u001b[39;00m\u001b[38;5;21;01m.\u001b[39;00m\u001b[38;5;21;01mai\u001b[39;00m\u001b[38;5;21;01m.\u001b[39;00m\u001b[38;5;21;01mdocumentintelligence\u001b[39;00m\u001b[38;5;21;01m.\u001b[39;00m\u001b[38;5;21;01mmodels\u001b[39;00m \u001b[38;5;28;01mimport\u001b[39;00m AnalyzeDocumentRequest\n\u001b[1;32m      6\u001b[0m document_intelligence \u001b[38;5;241m=\u001b[39m DocumentIntelligenceClient(endpoint\u001b[38;5;241m=\u001b[39mendpoint, credential\u001b[38;5;241m=\u001b[39mAzureKeyCredential(key))\n\u001b[0;32m----> 8\u001b[0m \u001b[38;5;28mbytes\u001b[39m \u001b[38;5;241m=\u001b[39m \u001b[43mread_file_to_buyes\u001b[49m(\u001b[38;5;124m\"\u001b[39m\u001b[38;5;124msample.pdf\u001b[39m\u001b[38;5;124m\"\u001b[39m)\n",
      "\u001b[0;31mNameError\u001b[0m: name 'read_file_to_buyes' is not defined"
     ]
    }
   ],
   "source": [
    "from azure.core.credentials import AzureKeyCredential\n",
    "from azure.ai.documentintelligence import DocumentIntelligenceClient\n",
    "from azure.ai.documentintelligence.models import AnalyzeResult\n",
    "from azure.ai.documentintelligence.models import AnalyzeDocumentRequest\n",
    "\n",
    "document_intelligence = DocumentIntelligenceClient(endpoint=endpoint, credential=AzureKeyCredential(key))\n",
    "\n",
    "bytes = read_file_to_bytes(\"sample.pdf\")"
   ]
  }
 ],
 "metadata": {
  "kernelspec": {
   "display_name": ".venv",
   "language": "python",
   "name": "python3"
  },
  "language_info": {
   "codemirror_mode": {
    "name": "ipython",
    "version": 3
   },
   "file_extension": ".py",
   "mimetype": "text/x-python",
   "name": "python",
   "nbconvert_exporter": "python",
   "pygments_lexer": "ipython3",
   "version": "3.12.8"
  }
 },
 "nbformat": 4,
 "nbformat_minor": 2
}
